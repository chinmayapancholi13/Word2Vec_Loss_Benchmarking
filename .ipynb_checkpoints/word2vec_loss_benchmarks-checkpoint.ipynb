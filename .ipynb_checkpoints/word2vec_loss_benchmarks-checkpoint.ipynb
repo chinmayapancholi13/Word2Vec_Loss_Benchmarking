{
 "cells": [
  {
   "cell_type": "markdown",
   "metadata": {},
   "source": [
    "# Word2Vec Loss Computation\n",
    "\n",
    "Based on PR #1201."
   ]
  },
  {
   "cell_type": "code",
   "execution_count": 1,
   "metadata": {},
   "outputs": [
    {
     "name": "stderr",
     "output_type": "stream",
     "text": [
      "Using TensorFlow backend.\n"
     ]
    },
    {
     "name": "stdout",
     "output_type": "stream",
     "text": [
      "1\n",
      "/home/chinmaya/GSOC/Gensim/gensim/gensim/test/test_data/lee_background.cor\n"
     ]
    }
   ],
   "source": [
    "import gensim, os, time, numpy as np\n",
    "\n",
    "# to check if fast version of Gensim is being used\n",
    "print(gensim.models.word2vec.FAST_VERSION)\n",
    "\n",
    "# size of input data file = 24.7 KB\n",
    "test_data_dir = '{}'.format(os.sep).join([gensim.__path__[0], 'test', 'test_data']) + os.sep\n",
    "lee_train_file = test_data_dir + 'lee_background.cor'\n",
    "print(lee_train_file)"
   ]
  },
  {
   "cell_type": "code",
   "execution_count": 2,
   "metadata": {
    "collapsed": true
   },
   "outputs": [],
   "source": [
    "data = gensim.models.word2vec.LineSentence(lee_train_file)"
   ]
  },
  {
   "cell_type": "code",
   "execution_count": 3,
   "metadata": {},
   "outputs": [
    {
     "name": "stdout",
     "output_type": "stream",
     "text": [
      "0.554420948029\n",
      "0.543005943298\n",
      "0.527475833893\n",
      "0.532533884048\n",
      "0.52701997757\n",
      "0.536238908768\n",
      "0.524715185165\n",
      "0.529443979263\n",
      "0.528761148453\n",
      "0.532205104828\n",
      "('Mean : ', 0.53358209133148193)\n",
      "('Std dev : ', 0.0085583622684570673)\n"
     ]
    }
   ],
   "source": [
    "time_taken_list = []\n",
    "for i in range(10):\n",
    "    time_taken = time.time()\n",
    "    model_with_loss = gensim.models.Word2Vec(data, min_count=5, compute_loss=True, hs=0, sg=1, seed=42) \n",
    "    time_taken_list.append(time.time() - time_taken)\n",
    "    print(time_taken_list[i])\n",
    "    \n",
    "time_taken_list = np.array(time_taken_list)\n",
    "print(\"Mean : \", np.mean(time_taken_list))\n",
    "print(\"Std dev : \", np.std(time_taken_list))"
   ]
  },
  {
   "cell_type": "code",
   "execution_count": 5,
   "metadata": {},
   "outputs": [
    {
     "name": "stdout",
     "output_type": "stream",
     "text": [
      "0.558153152466\n",
      "0.537377119064\n",
      "0.532899856567\n",
      "0.529232025146\n",
      "0.535947084427\n",
      "0.523293018341\n",
      "0.525243997574\n",
      "0.52458691597\n",
      "0.523899078369\n",
      "0.528978824615\n",
      "('Mean : ', 0.53196110725402834)\n",
      "('Std dev : ', 0.0099403114346715386)\n"
     ]
    }
   ],
   "source": [
    "time_taken_list = []\n",
    "for i in range(10):\n",
    "    time_taken = time.time()\n",
    "    model_with_loss = gensim.models.Word2Vec(data, min_count=5, compute_loss=False, hs=0, sg=1, seed=42) \n",
    "    time_taken_list.append(time.time() - time_taken)\n",
    "    print(time_taken_list[i])\n",
    "    \n",
    "time_taken_list = np.array(time_taken_list)\n",
    "print(\"Mean : \", np.mean(time_taken_list))\n",
    "print(\"Std dev : \", np.std(time_taken_list))"
   ]
  },
  {
   "cell_type": "code",
   "execution_count": 6,
   "metadata": {},
   "outputs": [
    {
     "name": "stdout",
     "output_type": "stream",
     "text": [
      "/home/chinmaya/GSOC/Gensim/text8_1000000\n"
     ]
    }
   ],
   "source": [
    "# size of input data file = 1 MB\n",
    "\n",
    "text8_train_file = '/home/chinmaya/GSOC/Gensim/text8_1000000'\n",
    "\n",
    "print(text8_train_file)"
   ]
  },
  {
   "cell_type": "code",
   "execution_count": 7,
   "metadata": {
    "collapsed": true
   },
   "outputs": [],
   "source": [
    "data = gensim.models.word2vec.LineSentence(text8_train_file)"
   ]
  },
  {
   "cell_type": "code",
   "execution_count": 9,
   "metadata": {},
   "outputs": [
    {
     "name": "stdout",
     "output_type": "stream",
     "text": [
      "1.78811883926\n",
      "1.76581406593\n",
      "1.75619506836\n",
      "1.79881691933\n",
      "1.73441290855\n",
      "1.72922086716\n",
      "1.76040816307\n",
      "1.71804690361\n",
      "1.76906514168\n",
      "1.72521305084\n",
      "('Mean : ', 1.7545311927795411)\n",
      "('Std dev : ', 0.025886707935241587)\n"
     ]
    }
   ],
   "source": [
    "time_taken_list = []\n",
    "for i in range(10):\n",
    "    time_taken = time.time()\n",
    "    model_with_loss = gensim.models.Word2Vec(data, min_count=5, compute_loss=True, hs=0, sg=1, seed=42) \n",
    "    time_taken_list.append(time.time() - time_taken)\n",
    "    print(time_taken_list[i])\n",
    "    \n",
    "time_taken_list = np.array(time_taken_list)\n",
    "print(\"Mean : \", np.mean(time_taken_list))\n",
    "print(\"Std dev : \", np.std(time_taken_list))"
   ]
  },
  {
   "cell_type": "code",
   "execution_count": 10,
   "metadata": {},
   "outputs": [
    {
     "name": "stdout",
     "output_type": "stream",
     "text": [
      "1.76139593124\n",
      "1.71176099777\n",
      "1.74387407303\n",
      "1.70567512512\n",
      "1.73765492439\n",
      "1.77708292007\n",
      "1.7479159832\n",
      "1.71280288696\n",
      "1.98577809334\n",
      "1.71727895737\n",
      "('Mean : ', 1.7601219892501831)\n",
      "('Std dev : ', 0.078425501665987302)\n"
     ]
    }
   ],
   "source": [
    "time_taken_list = []\n",
    "for i in range(10):\n",
    "    time_taken = time.time()\n",
    "    model_with_loss = gensim.models.Word2Vec(data, min_count=5, compute_loss=False, hs=0, sg=1, seed=42) \n",
    "    time_taken_list.append(time.time() - time_taken)\n",
    "    print(time_taken_list[i])\n",
    "    \n",
    "time_taken_list = np.array(time_taken_list)\n",
    "print(\"Mean : \", np.mean(time_taken_list))\n",
    "print(\"Std dev : \", np.std(time_taken_list))"
   ]
  },
  {
   "cell_type": "code",
   "execution_count": 11,
   "metadata": {},
   "outputs": [
    {
     "name": "stdout",
     "output_type": "stream",
     "text": [
      "/home/chinmaya/GSOC/Gensim/text8_10000000\n"
     ]
    }
   ],
   "source": [
    "# size of input data file = 10 MB\n",
    "\n",
    "text8_train_file = '/home/chinmaya/GSOC/Gensim/text8_10000000'\n",
    "\n",
    "print(text8_train_file)"
   ]
  },
  {
   "cell_type": "code",
   "execution_count": 12,
   "metadata": {
    "collapsed": true
   },
   "outputs": [],
   "source": [
    "data = gensim.models.word2vec.LineSentence(text8_train_file)"
   ]
  },
  {
   "cell_type": "code",
   "execution_count": 14,
   "metadata": {},
   "outputs": [
    {
     "name": "stdout",
     "output_type": "stream",
     "text": [
      "23.4302909374\n",
      "23.5327839851\n",
      "22.6824569702\n",
      "22.7742369175\n",
      "22.8445057869\n",
      "22.825357914\n",
      "22.8956098557\n",
      "22.7638988495\n",
      "22.7977249622\n",
      "22.9459300041\n",
      "('Mean : ', 22.949279618263244)\n",
      "('Std dev : ', 0.27572525437283163)\n"
     ]
    }
   ],
   "source": [
    "time_taken_list = []\n",
    "for i in range(10):\n",
    "    time_taken = time.time()\n",
    "    model_with_loss = gensim.models.Word2Vec(data, min_count=5, compute_loss=True, hs=0, sg=1, seed=42) \n",
    "    time_taken_list.append(time.time() - time_taken)\n",
    "    print(time_taken_list[i])\n",
    "    \n",
    "time_taken_list = np.array(time_taken_list)\n",
    "print(\"Mean : \", np.mean(time_taken_list))\n",
    "print(\"Std dev : \", np.std(time_taken_list))"
   ]
  },
  {
   "cell_type": "code",
   "execution_count": 15,
   "metadata": {},
   "outputs": [
    {
     "name": "stdout",
     "output_type": "stream",
     "text": [
      "22.8027150631\n",
      "22.7313182354\n",
      "22.6655321121\n",
      "22.6803071499\n",
      "22.6973698139\n",
      "22.6286821365\n",
      "22.7358629704\n",
      "22.6768910885\n",
      "22.7789030075\n",
      "22.6842000484\n",
      "('Mean : ', 22.708178162574768)\n",
      "('Std dev : ', 0.050820162621732154)\n"
     ]
    }
   ],
   "source": [
    "time_taken_list = []\n",
    "for i in range(10):\n",
    "    time_taken = time.time()\n",
    "    model_with_loss = gensim.models.Word2Vec(data, min_count=5, compute_loss=False, hs=0, sg=1, seed=42) \n",
    "    time_taken_list.append(time.time() - time_taken)\n",
    "    print(time_taken_list[i])\n",
    "    \n",
    "time_taken_list = np.array(time_taken_list)\n",
    "print(\"Mean : \", np.mean(time_taken_list))\n",
    "print(\"Std dev : \", np.std(time_taken_list))"
   ]
  },
  {
   "cell_type": "code",
   "execution_count": 16,
   "metadata": {},
   "outputs": [
    {
     "name": "stdout",
     "output_type": "stream",
     "text": [
      "/home/chinmaya/GSOC/Gensim/text8_50000000\n"
     ]
    }
   ],
   "source": [
    "# size of input data file = 50 MB\n",
    "\n",
    "text8_train_file = '/home/chinmaya/GSOC/Gensim/text8_50000000'\n",
    "\n",
    "print(text8_train_file)"
   ]
  },
  {
   "cell_type": "code",
   "execution_count": 17,
   "metadata": {
    "collapsed": true
   },
   "outputs": [],
   "source": [
    "data = gensim.models.word2vec.LineSentence(text8_train_file)"
   ]
  },
  {
   "cell_type": "code",
   "execution_count": 18,
   "metadata": {},
   "outputs": [
    {
     "name": "stdout",
     "output_type": "stream",
     "text": [
      "127.733371973\n",
      "126.801432133\n",
      "128.483799934\n",
      "125.55359602\n",
      "125.64258194\n",
      "('Mean : ', 126.8429563999176)\n",
      "('Std dev : ', 1.1480662608874264)\n"
     ]
    }
   ],
   "source": [
    "time_taken_list = []\n",
    "for i in range(5):\n",
    "    time_taken = time.time()\n",
    "    model_with_loss = gensim.models.Word2Vec(data, min_count=5, compute_loss=True, hs=0, sg=1, seed=42) \n",
    "    time_taken_list.append(time.time() - time_taken)\n",
    "    print(time_taken_list[i])\n",
    "    \n",
    "time_taken_list = np.array(time_taken_list)\n",
    "print(\"Mean : \", np.mean(time_taken_list))\n",
    "print(\"Std dev : \", np.std(time_taken_list))"
   ]
  },
  {
   "cell_type": "code",
   "execution_count": 19,
   "metadata": {},
   "outputs": [
    {
     "name": "stdout",
     "output_type": "stream",
     "text": [
      "125.129019976\n",
      "123.045175076\n",
      "123.429594994\n",
      "122.443036079\n",
      "123.171064854\n",
      "('Mean : ', 123.4435781955719)\n",
      "('Std dev : ', 0.90277157883993997)\n"
     ]
    }
   ],
   "source": [
    "time_taken_list = []\n",
    "for i in range(5):\n",
    "    time_taken = time.time()\n",
    "    model_with_loss = gensim.models.Word2Vec(data, min_count=5, compute_loss=False, hs=0, sg=1, seed=42) \n",
    "    time_taken_list.append(time.time() - time_taken)\n",
    "    print(time_taken_list[i])\n",
    "    \n",
    "time_taken_list = np.array(time_taken_list)\n",
    "print(\"Mean : \", np.mean(time_taken_list))\n",
    "print(\"Std dev : \", np.std(time_taken_list))"
   ]
  },
  {
   "cell_type": "code",
   "execution_count": 20,
   "metadata": {},
   "outputs": [
    {
     "name": "stdout",
     "output_type": "stream",
     "text": [
      "/home/chinmaya/GSOC/Gensim/text8\n"
     ]
    }
   ],
   "source": [
    "# size of input data file = 100 MB\n",
    "\n",
    "text8_train_file = '/home/chinmaya/GSOC/Gensim/text8'\n",
    "\n",
    "print(text8_train_file)"
   ]
  },
  {
   "cell_type": "code",
   "execution_count": 21,
   "metadata": {
    "collapsed": true
   },
   "outputs": [],
   "source": [
    "data = gensim.models.word2vec.LineSentence(text8_train_file)"
   ]
  },
  {
   "cell_type": "code",
   "execution_count": 22,
   "metadata": {},
   "outputs": [
    {
     "name": "stdout",
     "output_type": "stream",
     "text": [
      "258.695236921\n",
      "254.6441679\n",
      "257.194048166\n",
      "260.755464077\n",
      "254.60928297\n",
      "('Mean : ', 257.17964000701903)\n",
      "('Std dev : ', 2.3714600347329138)\n"
     ]
    }
   ],
   "source": [
    "time_taken_list = []\n",
    "for i in range(5):\n",
    "    time_taken = time.time()\n",
    "    model_with_loss = gensim.models.Word2Vec(data, min_count=5, compute_loss=True, hs=0, sg=1, seed=42) \n",
    "    time_taken_list.append(time.time() - time_taken)\n",
    "    print(time_taken_list[i])\n",
    "    \n",
    "time_taken_list = np.array(time_taken_list)\n",
    "print(\"Mean : \", np.mean(time_taken_list))\n",
    "print(\"Std dev : \", np.std(time_taken_list))"
   ]
  },
  {
   "cell_type": "code",
   "execution_count": 23,
   "metadata": {},
   "outputs": [
    {
     "name": "stdout",
     "output_type": "stream",
     "text": [
      "251.952759981\n",
      "252.920231104\n",
      "262.079621077\n",
      "258.932721138\n",
      "253.50797081\n",
      "('Mean : ', 255.87866082191468)\n",
      "('Std dev : ', 3.9386385321604238)\n"
     ]
    }
   ],
   "source": [
    "time_taken_list = []\n",
    "for i in range(5):\n",
    "    time_taken = time.time()\n",
    "    model_with_loss = gensim.models.Word2Vec(data, min_count=5, compute_loss=False, hs=0, sg=1, seed=42) \n",
    "    time_taken_list.append(time.time() - time_taken)\n",
    "    print(time_taken_list[i])\n",
    "    \n",
    "time_taken_list = np.array(time_taken_list)\n",
    "print(\"Mean : \", np.mean(time_taken_list))\n",
    "print(\"Std dev : \", np.std(time_taken_list))"
   ]
  },
  {
   "cell_type": "code",
   "execution_count": null,
   "metadata": {
    "collapsed": true
   },
   "outputs": [],
   "source": []
  }
 ],
 "metadata": {
  "anaconda-cloud": {},
  "kernelspec": {
   "display_name": "Python 2",
   "language": "python",
   "name": "python2"
  },
  "language_info": {
   "codemirror_mode": {
    "name": "ipython",
    "version": 2
   },
   "file_extension": ".py",
   "mimetype": "text/x-python",
   "name": "python",
   "nbconvert_exporter": "python",
   "pygments_lexer": "ipython2",
   "version": "2.7.13"
  }
 },
 "nbformat": 4,
 "nbformat_minor": 1
}
